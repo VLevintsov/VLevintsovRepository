{
 "cells": [
  {
   "cell_type": "markdown",
   "metadata": {},
   "source": [
    "### Вариант 1"
   ]
  },
  {
   "cell_type": "markdown",
   "metadata": {},
   "source": [
    "2) Реализовать анонимную функцию: Создать список, в котором все отрицательные числа исходного списка заменены на их номер в списке, остальные элементы сохранены на своих местах.\n",
    "\n",
    "Пример: [2, 4, -2, -3, 0 , 11 , 3, -1] -> [2, 4, 3, 4, 0, 11, 3, 8]"
   ]
  },
  {
   "cell_type": "markdown",
   "metadata": {},
   "source": [
    "3) Задача csv"
   ]
  },
  {
   "cell_type": "markdown",
   "metadata": {},
   "source": [
    "### Вариант 2"
   ]
  },
  {
   "cell_type": "markdown",
   "metadata": {},
   "source": [
    "2) Реализовать анонимную функцию armstrong_number, которая принимает число и проверяет является ли оно числом армстронга или нет.Числом Армстронга является число который равен сумме его цифр возведенных в степень их количества. Пример, 153 = 1^3 + 5^3 + 3^3"
   ]
  },
  {
   "cell_type": "code",
   "execution_count": null,
   "metadata": {},
   "outputs": [
    {
     "name": "stdout",
     "output_type": "stream",
     "text": [
      "1\n",
      "2\n",
      "3\n",
      "4\n",
      "5\n",
      "6\n",
      "7\n",
      "8\n",
      "9\n",
      "153\n",
      "370\n",
      "371\n",
      "407\n",
      "1634\n",
      "8208\n",
      "9474\n",
      "54748\n",
      "92727\n",
      "93084\n",
      "548834\n",
      "1741725\n",
      "4210818\n",
      "9800817\n",
      "9926315\n",
      "24678050\n",
      "24678051\n",
      "88593477\n"
     ]
    }
   ],
   "source": [
    "def arm(num):\n",
    "    num_sum = 0\n",
    "    n = len(str(num));\n",
    "    while num:\n",
    "        num_sum += (num%10)**n\n",
    "        num //= 10\n",
    "    return num_sum\n",
    " \n",
    "for num in range(1,1000000000):\n",
    "    if num == arm(num):\n",
    "        print(num);"
   ]
  },
  {
   "cell_type": "markdown",
   "metadata": {},
   "source": [
    "3) Задача csv"
   ]
  },
  {
   "cell_type": "code",
   "execution_count": null,
   "metadata": {},
   "outputs": [],
   "source": []
  },
  {
   "cell_type": "markdown",
   "metadata": {},
   "source": [
    "### Вариант 3"
   ]
  },
  {
   "cell_type": "markdown",
   "metadata": {},
   "source": [
    "2)Реализовать анонимную функцию: Даны числа N и M (задать их через переменные). С помощью генераторов в одну строку создать словарь, ключами в котором являются числа от 1 до N, а значениями - их степени от 0 до M. Например, для N=4, M=3 создать словарь:\n",
    "\n",
    "{1: [1, 1, 1, 1], 2: [1, 2, 4, 8], 3: [1, 3, 9, 27], 4: [1, 4, 16, 64]}"
   ]
  },
  {
   "cell_type": "markdown",
   "metadata": {},
   "source": [
    "3) Задача csv"
   ]
  },
  {
   "cell_type": "code",
   "execution_count": null,
   "metadata": {},
   "outputs": [],
   "source": []
  }
 ],
 "metadata": {
  "kernelspec": {
   "display_name": "Python 3",
   "language": "python",
   "name": "python3"
  },
  "language_info": {
   "codemirror_mode": {
    "name": "ipython",
    "version": 3
   },
   "file_extension": ".py",
   "mimetype": "text/x-python",
   "name": "python",
   "nbconvert_exporter": "python",
   "pygments_lexer": "ipython3",
   "version": "3.8.3"
  }
 },
 "nbformat": 4,
 "nbformat_minor": 2
}
