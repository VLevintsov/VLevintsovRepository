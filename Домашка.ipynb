{
 "cells": [
  {
   "cell_type": "markdown",
   "metadata": {},
   "source": [
    "Функция принимает два кортежа из двух элементов – координаты точек. Вывести уравнение прямой, проходящей через заданные точки. Функция должна вызывать ошибку, если переданные данные в нее некорректны (кортежи имеют не 2 элемента, типы данных не float и не integer)"
   ]
  },
  {
   "cell_type": "code",
   "execution_count": 5,
   "metadata": {},
   "outputs": [
    {
     "data": {
      "text/plain": [
       "'1y = 0x + 14'"
      ]
     },
     "execution_count": 5,
     "metadata": {},
     "output_type": "execute_result"
    }
   ],
   "source": [
    "def alpha(point1,point2):\n",
    "    assert isinstance(point1, tuple) and isinstance(point2, tuple), '! Неверный тип данных !'\n",
    "    assert len(point1) == 2 and len(point2) == 2, '! Точка должна иметь 2 координаты !'\n",
    "    for i in point1:\n",
    "        assert isinstance(i, int) or isinstance(i, float), \"\"\"\n",
    "        ! Ошибка в первом кортеже !\n",
    "        ! Координатами точки могут быть только все действительные числа !\n",
    "        \"\"\"\n",
    "    for i in point2:\n",
    "        assert isinstance(i, int) or isinstance(i, float), \"\"\"\n",
    "        ! Ошибка во втором кортеже !\n",
    "        ! Координатами точки могут быть только все действительные числа !\n",
    "        \"\"\"\n",
    "    x = point1[0]\n",
    "    y = point1[1]\n",
    "    x1 = point2[0]\n",
    "    y1 = point2[1]\n",
    "    ky = x - x1\n",
    "    kx = y - y1\n",
    "    b = x*y1 - x1*y\n",
    "    if b> 0:\n",
    "        return f'{ky}y = {kx}x + {b}'\n",
    "    else:\n",
    "        return f'{ky}y = {kx}x - {-b}'\n",
    "alpha((13,14),(12,14))"
   ]
  },
  {
   "cell_type": "markdown",
   "metadata": {},
   "source": [
    "Реализовать функцию, которая вычисляет, сколько придется платить в месяц по кредиту и сколько всего отдать денег банку за весь период. Функция принимает обязательные аргументы p, n и необязательный параметр Boolean и необязательные параметры m, s. Если необязательный параметр Boolean равен True, то функция возвращает ежемесячный платеж и обязательно принимает параметр s, иначе возвращает всю сумму и обязательно принимает параметр m. Если данные параметры не передаются, вызывать ошибку. Функция должна иметь обработчик ошибок.\n",
    "Месячная выплата по займу вычисляется по такой загадочной формуле:\n",
    "m = (s * p * (1 + p)^n) / (12 * ((1 + p)^n – 1))\n",
    "В этой формуле:\n",
    "m - размер месячного платежа;\n",
    "s - сумма займа (кредита);\n",
    "p - процент банка, выраженный в долях единицы (т. е. если 20%, будет 0.2).\n",
    "n - количество лет, на которые берется кредит.\n"
   ]
  },
  {
   "cell_type": "code",
   "execution_count": 15,
   "metadata": {},
   "outputs": [
    {
     "name": "stdout",
     "output_type": "stream",
     "text": [
      "Enter m:1\n"
     ]
    },
    {
     "data": {
      "text/plain": [
       "'s = 25.27777777777777'"
      ]
     },
     "execution_count": 15,
     "metadata": {},
     "output_type": "execute_result"
    }
   ],
   "source": [
    "import re\n",
    "def beta(p, n, Boolean = False, m = None, s = None): \n",
    "    assert isinstance(p, float) and 1 > p > 0,  '! 1>p>0 !'\n",
    "    X = re.compile(r'[\\d]+[.][\\d]+')\n",
    "    Y = re.compile(r'[\\d]+')\n",
    "    if Boolean == False:\n",
    "        m = (input('Enter m:'))\n",
    "        if X.match(m):\n",
    "            m = float(m)\n",
    "        elif Y.match(m):\n",
    "            m = int(m)\n",
    "        else:\n",
    "            raise TypeError('! Wrong data type. !')\n",
    "        return f's = {(m * 12 * ((1 + p)**n - 1)) / (p * (1 + p)**n)}'\n",
    "    elif Boolean == True:  \n",
    "        s = (input('Enter s:'))\n",
    "        if X.match(s):\n",
    "            s = float(s)\n",
    "        elif Y.match(s):\n",
    "            s = int(s)\n",
    "        else:\n",
    "            raise TypeError('! Wrong data type. !')\n",
    "        return f'm = {(s * p * (1 + p)**n) / (12 * ((1 + p)**n - 1))}'\n",
    "    else:\n",
    "        raise ValueError('! Boolean only could be True or False. !')\n",
    "beta(0.2, 3)"
   ]
  },
  {
   "cell_type": "markdown",
   "metadata": {},
   "source": [
    "даны два списка и необходимо найти их совпадающие элементы, то есть область пересечения списков - элементы, которые присутствуют в обоих списках. Дополнительно: реализовать при помощи генератора. Дополнительно2: реализовать при помощи анонимной функции\n",
    "|"
   ]
  },
  {
   "cell_type": "code",
   "execution_count": 6,
   "metadata": {},
   "outputs": [
    {
     "data": {
      "text/plain": [
       "[3, 4, 5]"
      ]
     },
     "execution_count": 6,
     "metadata": {},
     "output_type": "execute_result"
    }
   ],
   "source": [
    "gamma = lambda lst1, lst2: list(set(lst1)&set(lst2))\n",
    "x = [1,2,3,4,5,5,5]\n",
    "y = [3,4,5,6,7]\n",
    "gamma(x,y)"
   ]
  },
  {
   "cell_type": "markdown",
   "metadata": {},
   "source": [
    "Отсортировать слова в строке по возрастанию их длины. Реализовать при помощи лямбда функции"
   ]
  },
  {
   "cell_type": "code",
   "execution_count": 8,
   "metadata": {},
   "outputs": [
    {
     "data": {
      "text/plain": [
       "'o mosm fp209 if593 hgunslijskimap'"
      ]
     },
     "execution_count": 8,
     "metadata": {},
     "output_type": "execute_result"
    }
   ],
   "source": [
    "import re\n",
    "\n",
    "p = re.compile(r' |,|;')\n",
    "delta = lambda s: ' '.join(sorted(p.split(s), key=len))\n",
    "delta('hgunslijskimap;o mosm fp209 if593')"
   ]
  },
  {
   "cell_type": "markdown",
   "metadata": {},
   "source": [
    "Посчитать количество одинаковых элементов в списке. Результатом является словарь. Реализовать при помощи анонимной функции."
   ]
  },
  {
   "cell_type": "code",
   "execution_count": 12,
   "metadata": {},
   "outputs": [
    {
     "data": {
      "text/plain": [
       "{'x': 3, '1': 1, '2': 1, '3': 1, '4': 1, '5': 3}"
      ]
     },
     "execution_count": 12,
     "metadata": {},
     "output_type": "execute_result"
    }
   ],
   "source": [
    "def epsilon(lst):\n",
    "    lst1 = []\n",
    "    for i in lst:\n",
    "        if i not in lst1:\n",
    "            lst1.append(i)\n",
    "    return (lambda lst: {str(k): lst.count(k) for k in lst1})(lst)\n",
    "epsilon(['x','x','x',1,2,3,4,5,5,5])"
   ]
  }
 ],
 "metadata": {
  "kernelspec": {
   "display_name": "Python 3",
   "language": "python",
   "name": "python3"
  },
  "language_info": {
   "codemirror_mode": {
    "name": "ipython",
    "version": 3
   },
   "file_extension": ".py",
   "mimetype": "text/x-python",
   "name": "python",
   "nbconvert_exporter": "python",
   "pygments_lexer": "ipython3",
   "version": "3.8.3"
  }
 },
 "nbformat": 4,
 "nbformat_minor": 4
}
